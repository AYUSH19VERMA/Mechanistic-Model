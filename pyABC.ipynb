{
  "nbformat": 4,
  "nbformat_minor": 0,
  "metadata": {
    "colab": {
      "name": "pyABC.ipynb",
      "provenance": [],
      "include_colab_link": true
    },
    "kernelspec": {
      "name": "python3",
      "display_name": "Python 3"
    },
    "language_info": {
      "name": "python"
    }
  },
  "cells": [
    {
      "cell_type": "markdown",
      "metadata": {
        "id": "view-in-github",
        "colab_type": "text"
      },
      "source": [
        "<a href=\"https://colab.research.google.com/github/AYUSH19VERMA/Pipeline-_Project/blob/main/pyABC.ipynb\" target=\"_parent\"><img src=\"https://colab.research.google.com/assets/colab-badge.svg\" alt=\"Open In Colab\"/></a>"
      ]
    },
    {
      "cell_type": "code",
      "metadata": {
        "colab": {
          "base_uri": "https://localhost:8080/",
          "height": 1000
        },
        "id": "eU3ilKJPeZId",
        "outputId": "7afdcb44-f931-42c7-b213-2cfc622a3908"
      },
      "source": [
        "pip install pyabc "
      ],
      "execution_count": null,
      "outputs": [
        {
          "output_type": "stream",
          "text": [
            "Collecting pyabc\n",
            "\u001b[?25l  Downloading https://files.pythonhosted.org/packages/e5/be/2468c20102b1f7737730b9127dcc23b23c358645251635e04ce1fa0030ef/pyabc-0.10.16-py3-none-any.whl (245kB)\n",
            "\u001b[K     |████████████████████████████████| 245kB 7.8MB/s \n",
            "\u001b[?25hCollecting scikit-learn>=0.23.1\n",
            "\u001b[?25l  Downloading https://files.pythonhosted.org/packages/a8/eb/a48f25c967526b66d5f1fa7a984594f0bf0a5afafa94a8c4dbc317744620/scikit_learn-0.24.2-cp37-cp37m-manylinux2010_x86_64.whl (22.3MB)\n",
            "\u001b[K     |████████████████████████████████| 22.3MB 121kB/s \n",
            "\u001b[?25hRequirement already satisfied: numpy>=1.19.1 in /usr/local/lib/python3.7/dist-packages (from pyabc) (1.19.5)\n",
            "Collecting scipy>=1.5.2\n",
            "\u001b[?25l  Downloading https://files.pythonhosted.org/packages/b2/85/b00f13b52d079b5625e1a12330fc6453c947a482ff667a907c7bc60ed220/scipy-1.7.0-cp37-cp37m-manylinux_2_5_x86_64.manylinux1_x86_64.whl (28.5MB)\n",
            "\u001b[K     |████████████████████████████████| 28.5MB 98kB/s \n",
            "\u001b[?25hRequirement already satisfied: click>=7.1.2 in /usr/local/lib/python3.7/dist-packages (from pyabc) (7.1.2)\n",
            "Collecting matplotlib>=3.3.0\n",
            "\u001b[?25l  Downloading https://files.pythonhosted.org/packages/24/33/5568d443ba438d95d4db635dd69958056f087e57e1026bee56f959d53f9d/matplotlib-3.4.2-cp37-cp37m-manylinux1_x86_64.whl (10.3MB)\n",
            "\u001b[K     |████████████████████████████████| 10.3MB 28.6MB/s \n",
            "\u001b[?25hRequirement already satisfied: sqlalchemy>=1.3.18 in /usr/local/lib/python3.7/dist-packages (from pyabc) (1.4.18)\n",
            "Requirement already satisfied: pyarrow>=1.0.0 in /usr/local/lib/python3.7/dist-packages (from pyabc) (3.0.0)\n",
            "Collecting distributed>=2.21.0\n",
            "\u001b[?25l  Downloading https://files.pythonhosted.org/packages/14/03/104c2cb8f498165da0037fbe76581678027ea2722bac2775f04aaeafef65/distributed-2021.6.2-py3-none-any.whl (722kB)\n",
            "\u001b[K     |████████████████████████████████| 727kB 38.9MB/s \n",
            "\u001b[?25hCollecting jabbar>=0.0.10\n",
            "  Downloading https://files.pythonhosted.org/packages/e9/91/2b0544253c392638de1fc73d9c60a63e538bd1f4d32bb0007ac28bc85e51/jabbar-0.0.15-py3-none-any.whl\n",
            "Collecting cloudpickle>=1.5.0\n",
            "  Downloading https://files.pythonhosted.org/packages/e7/e3/898487e5dbeb612054cf2e0c188463acb358167fef749c53c8bb8918cea1/cloudpickle-1.6.0-py3-none-any.whl\n",
            "Collecting gitpython>=3.1.7\n",
            "\u001b[?25l  Downloading https://files.pythonhosted.org/packages/bc/91/b38c4fabb6e5092ab23492ded4f318ab7299b19263272b703478038c0fbc/GitPython-3.1.18-py3-none-any.whl (170kB)\n",
            "\u001b[K     |████████████████████████████████| 174kB 52.5MB/s \n",
            "\u001b[?25hCollecting redis>=2.10.6\n",
            "\u001b[?25l  Downloading https://files.pythonhosted.org/packages/a7/7c/24fb0511df653cf1a5d938d8f5d19802a88cef255706fdda242ff97e91b7/redis-3.5.3-py2.py3-none-any.whl (72kB)\n",
            "\u001b[K     |████████████████████████████████| 81kB 10.7MB/s \n",
            "\u001b[?25hCollecting pandas>=1.2.0\n",
            "\u001b[?25l  Downloading https://files.pythonhosted.org/packages/e6/0a/90da8840e044c329a0271fb0244ff40a68a2615bc360c296a3dc5e326ab6/pandas-1.2.5-cp37-cp37m-manylinux_2_5_x86_64.manylinux1_x86_64.whl (9.9MB)\n",
            "\u001b[K     |████████████████████████████████| 9.9MB 26.2MB/s \n",
            "\u001b[?25hCollecting threadpoolctl>=2.0.0\n",
            "  Downloading https://files.pythonhosted.org/packages/f7/12/ec3f2e203afa394a149911729357aa48affc59c20e2c1c8297a60f33f133/threadpoolctl-2.1.0-py3-none-any.whl\n",
            "Requirement already satisfied: joblib>=0.11 in /usr/local/lib/python3.7/dist-packages (from scikit-learn>=0.23.1->pyabc) (1.0.1)\n",
            "Requirement already satisfied: kiwisolver>=1.0.1 in /usr/local/lib/python3.7/dist-packages (from matplotlib>=3.3.0->pyabc) (1.3.1)\n",
            "Requirement already satisfied: pyparsing>=2.2.1 in /usr/local/lib/python3.7/dist-packages (from matplotlib>=3.3.0->pyabc) (2.4.7)\n",
            "Requirement already satisfied: pillow>=6.2.0 in /usr/local/lib/python3.7/dist-packages (from matplotlib>=3.3.0->pyabc) (7.1.2)\n",
            "Requirement already satisfied: cycler>=0.10 in /usr/local/lib/python3.7/dist-packages (from matplotlib>=3.3.0->pyabc) (0.10.0)\n",
            "Requirement already satisfied: python-dateutil>=2.7 in /usr/local/lib/python3.7/dist-packages (from matplotlib>=3.3.0->pyabc) (2.8.1)\n",
            "Requirement already satisfied: greenlet!=0.4.17; python_version >= \"3\" in /usr/local/lib/python3.7/dist-packages (from sqlalchemy>=1.3.18->pyabc) (1.1.0)\n",
            "Requirement already satisfied: importlib-metadata; python_version < \"3.8\" in /usr/local/lib/python3.7/dist-packages (from sqlalchemy>=1.3.18->pyabc) (4.5.0)\n",
            "Requirement already satisfied: tornado>=5; python_version < \"3.8\" in /usr/local/lib/python3.7/dist-packages (from distributed>=2.21.0->pyabc) (5.1.1)\n",
            "Requirement already satisfied: tblib>=1.6.0 in /usr/local/lib/python3.7/dist-packages (from distributed>=2.21.0->pyabc) (1.7.0)\n",
            "Requirement already satisfied: pyyaml in /usr/local/lib/python3.7/dist-packages (from distributed>=2.21.0->pyabc) (3.13)\n",
            "Requirement already satisfied: psutil>=5.0 in /usr/local/lib/python3.7/dist-packages (from distributed>=2.21.0->pyabc) (5.4.8)\n",
            "Requirement already satisfied: zict>=0.1.3 in /usr/local/lib/python3.7/dist-packages (from distributed>=2.21.0->pyabc) (2.0.0)\n",
            "Requirement already satisfied: toolz>=0.8.2 in /usr/local/lib/python3.7/dist-packages (from distributed>=2.21.0->pyabc) (0.11.1)\n",
            "Requirement already satisfied: msgpack>=0.6.0 in /usr/local/lib/python3.7/dist-packages (from distributed>=2.21.0->pyabc) (1.0.2)\n",
            "Collecting dask==2021.06.2\n",
            "\u001b[?25l  Downloading https://files.pythonhosted.org/packages/02/36/5e18bf30a172efd676fb7d668cc14d2624c15a4417b6c047e1def79ee450/dask-2021.6.2-py3-none-any.whl (973kB)\n",
            "\u001b[K     |████████████████████████████████| 983kB 26.6MB/s \n",
            "\u001b[?25hRequirement already satisfied: sortedcontainers!=2.0.0,!=2.0.1 in /usr/local/lib/python3.7/dist-packages (from distributed>=2.21.0->pyabc) (2.4.0)\n",
            "Requirement already satisfied: setuptools in /usr/local/lib/python3.7/dist-packages (from distributed>=2.21.0->pyabc) (57.0.0)\n",
            "Requirement already satisfied: typing-extensions>=3.7.4.0; python_version < \"3.8\" in /usr/local/lib/python3.7/dist-packages (from gitpython>=3.1.7->pyabc) (3.7.4.3)\n",
            "Collecting gitdb<5,>=4.0.1\n",
            "\u001b[?25l  Downloading https://files.pythonhosted.org/packages/ea/e8/f414d1a4f0bbc668ed441f74f44c116d9816833a48bf81d22b697090dba8/gitdb-4.0.7-py3-none-any.whl (63kB)\n",
            "\u001b[K     |████████████████████████████████| 71kB 8.5MB/s \n",
            "\u001b[?25hRequirement already satisfied: pytz>=2017.3 in /usr/local/lib/python3.7/dist-packages (from pandas>=1.2.0->pyabc) (2018.9)\n",
            "Requirement already satisfied: six in /usr/local/lib/python3.7/dist-packages (from cycler>=0.10->matplotlib>=3.3.0->pyabc) (1.15.0)\n",
            "Requirement already satisfied: zipp>=0.5 in /usr/local/lib/python3.7/dist-packages (from importlib-metadata; python_version < \"3.8\"->sqlalchemy>=1.3.18->pyabc) (3.4.1)\n",
            "Requirement already satisfied: heapdict in /usr/local/lib/python3.7/dist-packages (from zict>=0.1.3->distributed>=2.21.0->pyabc) (1.0.1)\n",
            "Collecting fsspec>=0.6.0\n",
            "\u001b[?25l  Downloading https://files.pythonhosted.org/packages/0e/3a/666e63625a19883ae8e1674099e631f9737bd5478c4790e5ad49c5ac5261/fsspec-2021.6.1-py3-none-any.whl (115kB)\n",
            "\u001b[K     |████████████████████████████████| 122kB 39.8MB/s \n",
            "\u001b[?25hCollecting partd>=0.3.10\n",
            "  Downloading https://files.pythonhosted.org/packages/41/94/360258a68b55f47859d72b2d0b2b3cfe0ca4fbbcb81b78812bd00ae86b7c/partd-1.2.0-py3-none-any.whl\n",
            "Collecting smmap<5,>=3.0.1\n",
            "  Downloading https://files.pythonhosted.org/packages/68/ee/d540eb5e5996eb81c26ceffac6ee49041d473bc5125f2aa995cf51ec1cf1/smmap-4.0.0-py2.py3-none-any.whl\n",
            "Collecting locket\n",
            "  Downloading https://files.pythonhosted.org/packages/50/b8/e789e45b9b9c2db75e9d9e6ceb022c8d1d7e49b2c085ce8c05600f90a96b/locket-0.2.1-py2.py3-none-any.whl\n",
            "\u001b[31mERROR: google-colab 1.0.0 has requirement pandas~=1.1.0; python_version >= \"3.0\", but you'll have pandas 1.2.5 which is incompatible.\u001b[0m\n",
            "\u001b[31mERROR: albumentations 0.1.12 has requirement imgaug<0.2.7,>=0.2.5, but you'll have imgaug 0.2.9 which is incompatible.\u001b[0m\n",
            "Installing collected packages: scipy, threadpoolctl, scikit-learn, matplotlib, fsspec, locket, partd, cloudpickle, dask, distributed, jabbar, smmap, gitdb, gitpython, redis, pandas, pyabc\n",
            "  Found existing installation: scipy 1.4.1\n",
            "    Uninstalling scipy-1.4.1:\n",
            "      Successfully uninstalled scipy-1.4.1\n",
            "  Found existing installation: scikit-learn 0.22.2.post1\n",
            "    Uninstalling scikit-learn-0.22.2.post1:\n",
            "      Successfully uninstalled scikit-learn-0.22.2.post1\n",
            "  Found existing installation: matplotlib 3.2.2\n",
            "    Uninstalling matplotlib-3.2.2:\n",
            "      Successfully uninstalled matplotlib-3.2.2\n",
            "  Found existing installation: cloudpickle 1.3.0\n",
            "    Uninstalling cloudpickle-1.3.0:\n",
            "      Successfully uninstalled cloudpickle-1.3.0\n",
            "  Found existing installation: dask 2.12.0\n",
            "    Uninstalling dask-2.12.0:\n",
            "      Successfully uninstalled dask-2.12.0\n",
            "  Found existing installation: distributed 1.25.3\n",
            "    Uninstalling distributed-1.25.3:\n",
            "      Successfully uninstalled distributed-1.25.3\n",
            "  Found existing installation: pandas 1.1.5\n",
            "    Uninstalling pandas-1.1.5:\n",
            "      Successfully uninstalled pandas-1.1.5\n",
            "Successfully installed cloudpickle-1.6.0 dask-2021.6.2 distributed-2021.6.2 fsspec-2021.6.1 gitdb-4.0.7 gitpython-3.1.18 jabbar-0.0.15 locket-0.2.1 matplotlib-3.4.2 pandas-1.2.5 partd-1.2.0 pyabc-0.10.16 redis-3.5.3 scikit-learn-0.24.2 scipy-1.7.0 smmap-4.0.0 threadpoolctl-2.1.0\n"
          ],
          "name": "stdout"
        },
        {
          "output_type": "display_data",
          "data": {
            "application/vnd.colab-display-data+json": {
              "pip_warning": {
                "packages": [
                  "matplotlib",
                  "mpl_toolkits",
                  "pandas"
                ]
              }
            }
          },
          "metadata": {
            "tags": []
          }
        }
      ]
    },
    {
      "cell_type": "code",
      "metadata": {
        "id": "B3llS-dzeO7j"
      },
      "source": [
        "import numpy as np\n",
        "import matplotlib.pyplot as pyplot\n",
        "import pyabc\n",
        "import logging\n",
        "\n",
        "pyabc.settings.set_figure_params('pyabc')  # for beautified plots"
      ],
      "execution_count": null,
      "outputs": []
    },
    {
      "cell_type": "code",
      "metadata": {
        "id": "3KAJGIuseztb"
      },
      "source": [
        "# for debugging\n",
        "df_logger = logging.getLogger('ABC.Distance')\n",
        "df_logger.setLevel(logging.DEBUG)\n",
        "# model definition\n",
        "def model(p):\n",
        "    return {'ss1': p['alpha1'] + 1 + 0.1 * np.random.normal(),\n",
        "            'ss2': 2 + 10 * np.random.normal()}\n",
        "# true model parameter\n",
        "theta_true = 3\n",
        "\n",
        "# observed summary statistics\n",
        "observation = {'ss1': theta_true + 1, 'ss2': 2}\n",
        "\n",
        "# prior distribution\n",
        "prior = pyabc.Distribution(theta=pyabc.RV('uniform', 0, 10))\n",
        "\n",
        "# database\n",
        "db_path = pyabc.create_sqlite_db_id(file_=\"adaptive_distance.db\")"
      ],
      "execution_count": null,
      "outputs": []
    },
    {
      "cell_type": "code",
      "metadata": {
        "colab": {
          "base_uri": "https://localhost:8080/"
        },
        "id": "AzT_ygMWfhL7",
        "outputId": "2bfa240e-9e74-41f6-d70f-8e34f3850962"
      },
      "source": [
        "distance = pyabc.PNormDistance(p=2)\n",
        "\n",
        "abc = pyabc.ABCSMC(model, prior, distance)\n",
        "\n",
        "abc.new(db_path, observation)\n",
        "\n",
        "history0 = abc.run(minimum_epsilon=.1, max_nr_populations=8)"
      ],
      "execution_count": null,
      "outputs": [
        {
          "output_type": "stream",
          "text": [
            "ABC.Sampler INFO: Parallelize sampling on 2 processes.\n",
            "ABC.History INFO: Start <ABCSMC id=1, start_time=2021-07-01 18:25:08.732102>\n",
            "ABC INFO: Calibration sample t = -1.\n",
            "ABC INFO: t: 0, eps: 8.19372765e+00.\n",
            "ABC INFO: Accepted: 100 / 184 = 5.4348e-01, ESS: 1.0000e+02.\n",
            "ABC INFO: t: 1, eps: 4.79146486e+00.\n",
            "ABC INFO: Accepted: 100 / 381 = 2.6247e-01, ESS: 9.6005e+01.\n",
            "ABC INFO: t: 2, eps: 2.97664190e+00.\n",
            "ABC INFO: Accepted: 100 / 635 = 1.5748e-01, ESS: 9.7023e+01.\n",
            "ABC INFO: t: 3, eps: 2.06186904e+00.\n",
            "ABC INFO: Accepted: 100 / 935 = 1.0695e-01, ESS: 9.7331e+01.\n",
            "ABC INFO: t: 4, eps: 1.46735085e+00.\n",
            "ABC INFO: Accepted: 100 / 1484 = 6.7385e-02, ESS: 9.9524e+01.\n",
            "ABC INFO: t: 5, eps: 1.07057909e+00.\n",
            "ABC INFO: Accepted: 100 / 1816 = 5.5066e-02, ESS: 9.6638e+01.\n",
            "ABC INFO: t: 6, eps: 7.42807971e-01.\n",
            "ABC INFO: Accepted: 100 / 2647 = 3.7779e-02, ESS: 9.6588e+01.\n",
            "ABC INFO: t: 7, eps: 5.89572527e-01.\n",
            "ABC INFO: Accepted: 100 / 3079 = 3.2478e-02, ESS: 9.8966e+01.\n",
            "ABC INFO: Stop: Maximum number of generations.\n",
            "ABC.History INFO: Done <ABCSMC id=1, duration=0:00:11.378596, end_time=2021-07-01 18:25:20.110698>\n"
          ],
          "name": "stderr"
        }
      ]
    },
    {
      "cell_type": "code",
      "metadata": {
        "colab": {
          "base_uri": "https://localhost:8080/",
          "height": 599
        },
        "id": "pfMuTfw5f9Cw",
        "outputId": "8aab3e85-126a-4d4b-c152-da65ad9e2a61"
      },
      "source": [
        "!pip uninstall matplotlib\n",
        "!pip install matplotlib==3.1.3"
      ],
      "execution_count": null,
      "outputs": [
        {
          "output_type": "stream",
          "text": [
            "Uninstalling matplotlib-3.4.2:\n",
            "  Would remove:\n",
            "    /usr/local/lib/python3.7/dist-packages/matplotlib-3.4.2-py3.7-nspkg.pth\n",
            "    /usr/local/lib/python3.7/dist-packages/matplotlib-3.4.2.dist-info/*\n",
            "    /usr/local/lib/python3.7/dist-packages/matplotlib/*\n",
            "    /usr/local/lib/python3.7/dist-packages/mpl_toolkits/axes_grid/*\n",
            "    /usr/local/lib/python3.7/dist-packages/mpl_toolkits/axes_grid1/*\n",
            "    /usr/local/lib/python3.7/dist-packages/mpl_toolkits/axisartist/*\n",
            "    /usr/local/lib/python3.7/dist-packages/mpl_toolkits/mplot3d/*\n",
            "    /usr/local/lib/python3.7/dist-packages/mpl_toolkits/tests/*\n",
            "    /usr/local/lib/python3.7/dist-packages/pylab.py\n",
            "Proceed (y/n)? y\n",
            "  Successfully uninstalled matplotlib-3.4.2\n",
            "Collecting matplotlib==3.1.3\n",
            "\u001b[?25l  Downloading https://files.pythonhosted.org/packages/4c/9b/35ab3469fd1509f7636a344940569ebfd33239673fd2318e80b4700a257c/matplotlib-3.1.3-cp37-cp37m-manylinux1_x86_64.whl (13.1MB)\n",
            "\u001b[K     |████████████████████████████████| 13.1MB 236kB/s \n",
            "\u001b[?25hRequirement already satisfied: numpy>=1.11 in /usr/local/lib/python3.7/dist-packages (from matplotlib==3.1.3) (1.19.5)\n",
            "Requirement already satisfied: cycler>=0.10 in /usr/local/lib/python3.7/dist-packages (from matplotlib==3.1.3) (0.10.0)\n",
            "Requirement already satisfied: pyparsing!=2.0.4,!=2.1.2,!=2.1.6,>=2.0.1 in /usr/local/lib/python3.7/dist-packages (from matplotlib==3.1.3) (2.4.7)\n",
            "Requirement already satisfied: kiwisolver>=1.0.1 in /usr/local/lib/python3.7/dist-packages (from matplotlib==3.1.3) (1.3.1)\n",
            "Requirement already satisfied: python-dateutil>=2.1 in /usr/local/lib/python3.7/dist-packages (from matplotlib==3.1.3) (2.8.1)\n",
            "Requirement already satisfied: six in /usr/local/lib/python3.7/dist-packages (from cycler>=0.10->matplotlib==3.1.3) (1.15.0)\n",
            "\u001b[31mERROR: pyabc 0.10.16 has requirement matplotlib>=3.3.0, but you'll have matplotlib 3.1.3 which is incompatible.\u001b[0m\n",
            "\u001b[31mERROR: albumentations 0.1.12 has requirement imgaug<0.2.7,>=0.2.5, but you'll have imgaug 0.2.9 which is incompatible.\u001b[0m\n",
            "Installing collected packages: matplotlib\n",
            "Successfully installed matplotlib-3.1.3\n"
          ],
          "name": "stdout"
        },
        {
          "output_type": "display_data",
          "data": {
            "application/vnd.colab-display-data+json": {
              "pip_warning": {
                "packages": [
                  "matplotlib",
                  "mpl_toolkits"
                ]
              }
            }
          },
          "metadata": {
            "tags": []
          }
        }
      ]
    },
    {
      "cell_type": "code",
      "metadata": {
        "colab": {
          "base_uri": "https://localhost:8080/",
          "height": 279
        },
        "id": "B9Tek8ACfvbX",
        "outputId": "09e181ee-ed90-412e-8c6b-d2ab7adf5443"
      },
      "source": [
        "# plotting\n",
        "\n",
        "def plot_history(history):\n",
        "    fig, ax = pyplot.subplots()\n",
        "    for t in range(history.max_t + 1):\n",
        "        df, w = history.get_distribution(m=0, t=t)\n",
        "        pyabc.visualization.plot_kde_1d(df, w, xmin=0, xmax=10,\n",
        "                                       x='theta', ax=ax,\n",
        "                                       label=\"PDF t={}\".format(t))\n",
        "    ax.axvline(theta_true, color='k', linestyle='dashed', label=\"True value\")\n",
        "    ax.legend()\n",
        "\n",
        "\n",
        "plot_history(history0)"
      ],
      "execution_count": null,
      "outputs": [
        {
          "output_type": "display_data",
          "data": {
            "image/png": "[encoded data removed]",
            "text/plain": [
              "<Figure size 432x288 with 1 Axes>"
            ]
          },
          "metadata": {
            "tags": [],
            "needs_background": "light"
          }
        }
      ]
    },
    {
      "cell_type": "markdown",
      "metadata": {
        "id": "1R2y4wKmiX-q"
      },
      "source": [
        "**NOISE**\n"
      ]
    },
    {
      "cell_type": "code",
      "metadata": {
        "id": "tyuU0Oukib24"
      },
      "source": [
        "import numpy as np\n",
        "import scipy as sp\n",
        "import matplotlib.pyplot as plt\n",
        "import pyabc\n",
        "%matplotlib inline\n",
        "pyabc.settings.set_figure_params('pyabc')  # for beautified plots\n",
        "\n",
        "# initialize global random state\n",
        "np.random.seed(2)\n",
        "\n",
        "# initial states\n",
        "init = np.array([1e6, 0, 0, 0])\n",
        "\n",
        "# time points\n",
        "n_time = 48\n",
        "measurement_times = np.linspace(0, 48, n_time)\n",
        "\n",
        "def f(y, t0, alpha, M = 0.3e6, Nv =  150e6, beta = 0.28, k_NF = 1.2e-6, d_MF = 0.32e-6, k_C = 0.38e-12, k_CD = 0.31e-6, delta_C = 0.066, delta_N = 0.061, alpha_D_Dv = 0.017e6, k_ND = 0.0069e-6, delta_D = 0.1):\n",
        "    \"\"\"ODE right-hand side.\"\"\"\n",
        "    F, C, N, D = y\n",
        "    dFdt = beta*F - k_NF*N*F - d_MF*M*F\n",
        "    dCdt = k_C*M*F + k_CD*D - delta_C*C\n",
        "    dNdt = alpha*Nv*C - k_NF*N*F - delta_N*N\n",
        "    dDdt = alpha_D_Dv*C - k_ND*N*D - delta_D*D\n",
        "    return dFdt, dCdt, dNdt, dDdt\n",
        "\n",
        "def model(p: dict):\n",
        "    \"\"\"ODE model.\"\"\"\n",
        "    sol = sp.integrate.odeint(f, init, measurement_times, args=(p[\"alpha\"],))\n",
        "    return {'X_2': sol[:,3]}\n",
        "\n",
        "# true parameter\n",
        "alpha1_true = {'alpha': 0.0017}\n",
        "\n",
        "# uniform prior distribution\n",
        "alpha_min, alpha_max = 0.00012, 0.002\n",
        "alpha1_lims = {'alpha': (alpha_min, alpha_max)}\n",
        "prior = pyabc.Distribution(alpha=pyabc.RV(\"uniform\", alpha_min, alpha_max-alpha_min))\n",
        "\n",
        "# true noise-free data\n",
        "true_trajectory = model(alpha1_true)\n",
        "\n",
        "# population size\n",
        "pop_size = 500"
      ],
      "execution_count": null,
      "outputs": []
    },
    {
      "cell_type": "code",
      "metadata": {
        "colab": {
          "base_uri": "https://localhost:8080/",
          "height": 163
        },
        "id": "YXBMcGym0L3H",
        "outputId": "1dae9b3d-71d0-4208-b86b-a1003920cf38"
      },
      "source": [
        "print(X_2)"
      ],
      "execution_count": null,
      "outputs": [
        {
          "output_type": "error",
          "ename": "NameError",
          "evalue": "ignored",
          "traceback": [
            "\u001b[0;31m---------------------------------------------------------------------------\u001b[0m",
            "\u001b[0;31mNameError\u001b[0m                                 Traceback (most recent call last)",
            "\u001b[0;32m<ipython-input-1-959101f69d15>\u001b[0m in \u001b[0;36m<module>\u001b[0;34m()\u001b[0m\n\u001b[0;32m----> 1\u001b[0;31m \u001b[0mprint\u001b[0m\u001b[0;34m(\u001b[0m\u001b[0mX_2\u001b[0m\u001b[0;34m)\u001b[0m\u001b[0;34m\u001b[0m\u001b[0;34m\u001b[0m\u001b[0m\n\u001b[0m",
            "\u001b[0;31mNameError\u001b[0m: name 'X_2' is not defined"
          ]
        }
      ]
    },
    {
      "cell_type": "code",
      "metadata": {
        "colab": {
          "base_uri": "https://localhost:8080/"
        },
        "id": "V87k8Yk-oXv0",
        "outputId": "47dd1965-cc4e-498e-db99-6304b18d1b38"
      },
      "source": [
        "%%time\n",
        "for _ in range(3):\n",
        "    model(alpha1_true)"
      ],
      "execution_count": null,
      "outputs": [
        {
          "output_type": "stream",
          "text": [
            "CPU times: user 23.7 ms, sys: 0 ns, total: 23.7 ms\n",
            "Wall time: 23.8 ms\n"
          ],
          "name": "stdout"
        }
      ]
    },
    {
      "cell_type": "code",
      "metadata": {
        "colab": {
          "base_uri": "https://localhost:8080/",
          "height": 297
        },
        "id": "rEp3k7jEoz6U",
        "outputId": "783ffeb1-de89-4feb-cf10-6a31735bd672"
      },
      "source": [
        "#noise standard deviation\n",
        "sigma = 0.04\n",
        "\n",
        "def model_noisy(pars):\n",
        "    \"\"\"Add noise to model output\"\"\"\n",
        "    sim = model(pars)\n",
        "    return {'X_2': sim['X_2'] + sigma * np.random.randn(n_time)}\n",
        "\n",
        "# the actual observed data\n",
        "measured_data = model_noisy(alpha1_true)\n",
        "\n",
        "# plot data\n",
        "plt.plot(measurement_times, true_trajectory['X_2'], color=\"C0\",\n",
        "         label='Simulation')\n",
        "plt.scatter(measurement_times, measured_data['X_2'],\n",
        "            color=\"C1\", label='Data')\n",
        "plt.xlabel('Time $t$')\n",
        "plt.ylabel('Measurement $Y$')\n",
        "plt.title('Conversion reaction: True parameters fit')\n",
        "plt.legend()\n",
        "plt.show()\n"
      ],
      "execution_count": null,
      "outputs": [
        {
          "output_type": "display_data",
          "data": {
            "image/png": "[encoded data removed]",
            "text/plain": [
              "<Figure size 432x288 with 1 Axes>"
            ]
          },
          "metadata": {
            "tags": [],
            "needs_background": "light"
          }
        }
      ]
    },
    {
      "cell_type": "markdown",
      "metadata": {
        "id": "G_IMStkBtDRh"
      },
      "source": [
        "***`True posterior`***"
      ]
    },
    {
      "cell_type": "code",
      "metadata": {
        "colab": {
          "base_uri": "https://localhost:8080/"
        },
        "id": "KAjYNrd4tGHx",
        "outputId": "66e2bad8-2707-418d-ac69-6cef9d15f589"
      },
      "source": [
        "def normal_dty(y_bar, y, sigma):\n",
        "    \"\"\"Uncorrelated multivariate Gaussian density `y_bar ~ N(y, sigma).\"\"\"\n",
        "    y_bar, y, sigma = y_bar.flatten(), y.flatten(), sigma.flatten()\n",
        "    return np.prod(\n",
        "        1 / np.sqrt( 2 * np.pi * sigma**2)\n",
        "        * np.exp( - ( (y_bar - y) / sigma)**2 / 2)\n",
        "    )\n",
        "\n",
        "def posterior_unscaled_1d(p):\n",
        "    \"\"\"Unscaled posterior density.\"\"\"\n",
        "    # simulations and sigmas as arrays\n",
        "    y = model(p)['X_2'].flatten()\n",
        "    sigmas = sigma * np.ones(n_time)\n",
        "\n",
        "    # unscaled likelihood\n",
        "    likelihood_val = normal_dty(measured_data['X_2'], y, sigmas)\n",
        "\n",
        "    # prior\n",
        "    prior_val = prior.pdf(p)\n",
        "\n",
        "    return likelihood_val * prior_val\n",
        "\n",
        "# the integral needs to be 1\n",
        "posterior_normalization = sp.integrate.quad(lambda x: posterior_unscaled_1d({'alpha': x}),*alpha1_lims['alpha'])[0]\n",
        "\n",
        "def posterior_scaled_1d(p):\n",
        "    \"\"\"Posterior over theta with integral 1.\"\"\"\n",
        "    return posterior_unscaled_1d(p) / posterior_normalization\n",
        "\n",
        "# calculate posterior on grid values\n",
        "xs = np.linspace(*alpha1_lims['alpha'], 200)\n",
        "true_fvals = [posterior_scaled_1d({'alpha': x}) for x in xs]\n"
      ],
      "execution_count": null,
      "outputs": [
        {
          "output_type": "stream",
          "text": [
            "/usr/local/lib/python3.7/dist-packages/ipykernel_launcher.py:28: RuntimeWarning: invalid value encountered in double_scalars\n"
          ],
          "name": "stderr"
        }
      ]
    },
    {
      "cell_type": "markdown",
      "metadata": {
        "id": "6X9t8ENTu7HD"
      },
      "source": [
        "***`Ignoring noise`***"
      ]
    },
    {
      "cell_type": "code",
      "metadata": {
        "colab": {
          "base_uri": "https://localhost:8080/"
        },
        "id": "kDAMjPBSu7qF",
        "outputId": "df9f0040-9003-4397-dc59-c4624d19a72d"
      },
      "source": [
        "def distance(simulation, data):\n",
        "    \"\"\"Here we use an l2 distance.\"\"\"\n",
        "    return np.sum((data[\"X_2\"] - simulation[\"X_2\"])**2)\n",
        "\n",
        "abc = pyabc.ABCSMC(model, prior, distance, population_size=pop_size)\n",
        "abc.new(pyabc.create_sqlite_db_id(), measured_data)\n",
        "history_ignore = abc.run(max_nr_populations=7)"
      ],
      "execution_count": null,
      "outputs": [
        {
          "output_type": "stream",
          "text": [
            "ABC.Sampler INFO: Parallelize sampling on 2 processes.\n",
            "ABC.History INFO: Start <ABCSMC id=2, start_time=2021-07-01 18:29:21.804876>\n",
            "ABC INFO: Calibration sample t = -1.\n",
            "ABC INFO: t: 0, eps: 3.19075319e+13.\n",
            "ABC INFO: Accepted: 500 / 983 = 5.0865e-01, ESS: 5.0000e+02.\n",
            "ABC INFO: t: 1, eps: 2.18508345e+11.\n",
            "ABC INFO: Accepted: 500 / 1051 = 4.7574e-01, ESS: 4.9595e+02.\n",
            "ABC INFO: t: 2, eps: 6.89325769e+10.\n",
            "ABC INFO: Accepted: 500 / 901 = 5.5494e-01, ESS: 4.9835e+02.\n",
            "ABC INFO: t: 3, eps: 1.90982753e+10.\n",
            "ABC INFO: Accepted: 500 / 946 = 5.2854e-01, ESS: 4.9946e+02.\n",
            "ABC INFO: t: 4, eps: 4.70459262e+09.\n",
            "ABC INFO: Accepted: 500 / 1009 = 4.9554e-01, ESS: 4.9978e+02.\n",
            "ABC INFO: t: 5, eps: 1.15538203e+09.\n",
            "ABC INFO: Accepted: 500 / 1004 = 4.9801e-01, ESS: 4.9858e+02.\n",
            "ABC INFO: t: 6, eps: 3.19997125e+08.\n",
            "ABC INFO: Accepted: 500 / 966 = 5.1760e-01, ESS: 4.9835e+02.\n",
            "ABC INFO: Stop: Maximum number of generations.\n",
            "ABC.History INFO: Done <ABCSMC id=2, duration=0:01:03.798371, end_time=2021-07-01 18:30:25.603247>\n"
          ],
          "name": "stderr"
        }
      ]
    },
    {
      "cell_type": "code",
      "metadata": {
        "colab": {
          "base_uri": "https://localhost:8080/",
          "height": 279
        },
        "id": "S1f_0iHYvt2r",
        "outputId": "202fb3bf-9bb2-4d78-8c8c-a0d6c8189923"
      },
      "source": [
        "_, ax = plt.subplots()\n",
        "for t in range(history_ignore.max_t + 1):\n",
        "    pyabc.visualization.plot_kde_1d_highlevel(\n",
        "        history_ignore, x=\"alpha\", t=t, refval=alpha1_true,\n",
        "        refval_color='grey', xmin=alpha_min, xmax=alpha_max, numx=200, ax=ax,\n",
        "        label=f\"Generation {t}\")\n",
        "ax.plot(xs, true_fvals, color='black', linestyle='--', label=\"True\")\n",
        "ax.legend()\n",
        "plt.show()"
      ],
      "execution_count": null,
      "outputs": [
        {
          "output_type": "display_data",
          "data": {
            "image/png": "[encoded data removed]",
            "text/plain": [
              "<Figure size 432x288 with 1 Axes>"
            ]
          },
          "metadata": {
            "tags": [],
            "needs_background": "light"
          }
        }
      ]
    },
    {
      "cell_type": "markdown",
      "metadata": {
        "id": "EYAfkfyzw7iY"
      },
      "source": [
        "***`Add noise to the model output`***"
      ]
    },
    {
      "cell_type": "code",
      "metadata": {
        "colab": {
          "base_uri": "https://localhost:8080/"
        },
        "id": "ORWkvn0iw5Hu",
        "outputId": "fcf460da-4acf-48e3-c934-1888acd1675c"
      },
      "source": [
        "abc = pyabc.ABCSMC(model_noisy, prior, distance, population_size=pop_size)\n",
        "abc.new(pyabc.create_sqlite_db_id(), measured_data)\n",
        "history_noisy_output = abc.run(max_nr_populations=8)"
      ],
      "execution_count": null,
      "outputs": [
        {
          "output_type": "stream",
          "text": [
            "ABC.Sampler INFO: Parallelize sampling on 2 processes.\n",
            "ABC.History INFO: Start <ABCSMC id=3, start_time=2021-07-01 18:30:44.249150>\n",
            "ABC INFO: Calibration sample t = -1.\n",
            "ABC INFO: t: 0, eps: 4.43461064e+13.\n",
            "ABC INFO: Accepted: 500 / 975 = 5.1282e-01, ESS: 5.0000e+02.\n",
            "ABC INFO: t: 1, eps: 3.34440070e+11.\n",
            "ABC INFO: Accepted: 500 / 1075 = 4.6512e-01, ESS: 4.9477e+02.\n",
            "ABC INFO: t: 2, eps: 6.58190218e+10.\n",
            "ABC INFO: Accepted: 500 / 985 = 5.0761e-01, ESS: 4.9951e+02.\n",
            "ABC INFO: t: 3, eps: 1.69490776e+10.\n",
            "ABC INFO: Accepted: 500 / 981 = 5.0968e-01, ESS: 4.9852e+02.\n",
            "ABC INFO: t: 4, eps: 3.78031311e+09.\n",
            "ABC INFO: Accepted: 500 / 1049 = 4.7664e-01, ESS: 4.9906e+02.\n",
            "ABC INFO: t: 5, eps: 7.91496551e+08.\n",
            "ABC INFO: Accepted: 500 / 1078 = 4.6382e-01, ESS: 4.9927e+02.\n",
            "ABC INFO: t: 6, eps: 1.74463060e+08.\n",
            "ABC INFO: Accepted: 500 / 1039 = 4.8123e-01, ESS: 4.9912e+02.\n",
            "ABC INFO: t: 7, eps: 3.98055739e+07.\n",
            "ABC INFO: Accepted: 500 / 1019 = 4.9068e-01, ESS: 4.9964e+02.\n",
            "ABC INFO: Stop: Maximum number of generations.\n",
            "ABC.History INFO: Done <ABCSMC id=3, duration=0:01:15.112193, end_time=2021-07-01 18:31:59.361343>\n"
          ],
          "name": "stderr"
        }
      ]
    },
    {
      "cell_type": "code",
      "metadata": {
        "colab": {
          "base_uri": "https://localhost:8080/",
          "height": 297
        },
        "id": "CIdlLSLRxKCc",
        "outputId": "69a9d815-cc7d-420a-8bca-8e67c6341563"
      },
      "source": [
        "_, ax = plt.subplots()\n",
        "for t in range(history_noisy_output.max_t + 1):\n",
        "    pyabc.visualization.plot_kde_1d_highlevel(history_noisy_output, x=\"alpha\", t=t, refval=alpha1_true, refval_color='grey',\n",
        "        xmin=alpha_min, xmax=alpha_max, ax=ax, numx=200, label=f\"Generation {t}\")\n",
        "ax.plot(xs, true_fvals, color='black', linestyle='--', label=\"True\")\n",
        "ax.legend()"
      ],
      "execution_count": null,
      "outputs": [
        {
          "output_type": "execute_result",
          "data": {
            "text/plain": [
              "<matplotlib.legend.Legend at 0x7f16159185d0>"
            ]
          },
          "metadata": {
            "tags": []
          },
          "execution_count": 20
        },
        {
          "output_type": "display_data",
          "data": {
            "image/png": "[encoded data removed]",
            "text/plain": [
              "<Figure size 432x288 with 1 Axes>"
            ]
          },
          "metadata": {
            "tags": [],
            "needs_background": "light"
          }
        }
      ]
    },
    {
      "cell_type": "markdown",
      "metadata": {
        "id": "GrZBsQdownqp"
      },
      "source": [
        "***`Modify the acceptance step `***"
      ]
    },
    {
      "cell_type": "code",
      "metadata": {
        "colab": {
          "base_uri": "https://localhost:8080/"
        },
        "id": "h96fdryGwFSA",
        "outputId": "ddb8a157-d7a8-4db1-8da7-f9e1b22e5cc8"
      },
      "source": [
        "acceptor = pyabc.StochasticAcceptor()\n",
        "kernel = pyabc.IndependentNormalKernel(var=sigma**2)\n",
        "eps = pyabc.Temperature()\n",
        "\n",
        "abc = pyabc.ABCSMC(model, prior, kernel, eps=eps, acceptor=acceptor,\n",
        "                   population_size=pop_size)\n",
        "abc.new(pyabc.create_sqlite_db_id(), measured_data)\n",
        "history_acceptor = abc.run(max_nr_populations=10)"
      ],
      "execution_count": null,
      "outputs": [
        {
          "output_type": "stream",
          "text": [
            "ABC.Sampler INFO: Parallelize sampling on 2 processes.\n",
            "ABC.History INFO: Start <ABCSMC id=4, start_time=2021-07-01 18:32:24.426386>\n",
            "ABC INFO: Calibration sample t = -1.\n",
            "ABC INFO: t: 0, eps: 2.62831122e+14.\n",
            "ABC INFO: Accepted: 500 / 1894 = 2.6399e-01, ESS: 5.0000e+02.\n",
            "ABC INFO: t: 1, eps: 6.56886715e+12.\n",
            "ABC INFO: Accepted: 500 / 2311 = 2.1636e-01, ESS: 4.9954e+02.\n",
            "ABC INFO: t: 2, eps: 1.64173920e+11.\n",
            "ABC INFO: Accepted: 500 / 3272 = 1.5281e-01, ESS: 4.9968e+02.\n",
            "ABC INFO: t: 3, eps: 4.10315440e+09.\n",
            "ABC INFO: Accepted: 500 / 3387 = 1.4762e-01, ESS: 4.9971e+02.\n",
            "ABC INFO: t: 4, eps: 1.02549028e+08.\n",
            "ABC INFO: Accepted: 500 / 3226 = 1.5499e-01, ESS: 4.9988e+02.\n",
            "ABC INFO: t: 5, eps: 2.56298013e+06.\n",
            "ABC INFO: Accepted: 500 / 3511 = 1.4241e-01, ESS: 4.9956e+02.\n",
            "ABC INFO: t: 6, eps: 6.40558693e+04.\n",
            "ABC INFO: Accepted: 500 / 3277 = 1.5258e-01, ESS: 4.9984e+02.\n",
            "ABC INFO: t: 7, eps: 1.60093102e+03.\n",
            "ABC INFO: Accepted: 500 / 3107 = 1.6093e-01, ESS: 4.9981e+02.\n",
            "ABC INFO: t: 8, eps: 4.00116361e+01.\n",
            "ABC INFO: Accepted: 500 / 3436 = 1.4552e-01, ESS: 4.9993e+02.\n",
            "ABC INFO: t: 9, eps: 1.00000000e+00.\n",
            "ABC INFO: Accepted: 500 / 3108 = 1.6088e-01, ESS: 4.9955e+02.\n",
            "ABC INFO: Stop: Maximum number of generations.\n",
            "ABC.History INFO: Done <ABCSMC id=4, duration=0:04:23.973771, end_time=2021-07-01 18:36:48.400157>\n"
          ],
          "name": "stderr"
        }
      ]
    },
    {
      "cell_type": "code",
      "metadata": {
        "colab": {
          "base_uri": "https://localhost:8080/",
          "height": 279
        },
        "id": "jsL8AHXHwkzW",
        "outputId": "61b50197-530e-429d-cdea-c08be73c9749"
      },
      "source": [
        "_, ax = plt.subplots()\n",
        "for t in range(history_acceptor.max_t + 1):\n",
        "    pyabc.visualization.plot_kde_1d_highlevel(\n",
        "        history_acceptor, x=\"alpha\", t=t,\n",
        "        refval=alpha1_true, refval_color='grey',\n",
        "        xmin=alpha_min, xmax=alpha_max,\n",
        "        ax=ax, numx=200, label=f\"Generation {t}\")\n",
        "ax.plot(xs, true_fvals, color='black', linestyle='--', label=\"True\")\n",
        "ax.legend()\n",
        "plt.show()"
      ],
      "execution_count": null,
      "outputs": [
        {
          "output_type": "display_data",
          "data": {
            "image/png": "[encoded data removed]",
            "text/plain": [
              "<Figure size 432x288 with 1 Axes>"
            ]
          },
          "metadata": {
            "tags": [],
            "needs_background": "light"
          }
        }
      ]
    },
    {
      "cell_type": "code",
      "metadata": {
        "colab": {
          "base_uri": "https://localhost:8080/",
          "height": 297
        },
        "id": "d2EwXb45xUTZ",
        "outputId": "57605527-ecf4-4a6d-aad5-257516e787f1"
      },
      "source": [
        "histories = [history_noisy_output, history_acceptor]\n",
        "labels = [\"noisy model\", \"stochastic acceptor\"]\n",
        "\n",
        "pyabc.visualization.plot_sample_numbers(histories, labels)\n",
        "plt.show()"
      ],
      "execution_count": null,
      "outputs": [
        {
          "output_type": "display_data",
          "data": {
            "image/png": "[encoded data removed]",
            "text/plain": [
              "<Figure size 432x288 with 1 Axes>"
            ]
          },
          "metadata": {
            "tags": [],
            "needs_background": "light"
          }
        }
      ]
    },
    {
      "cell_type": "markdown",
      "metadata": {
        "id": "a06qt8kzxYnJ"
      },
      "source": [
        "***`Estimate noise parameters`***"
      ]
    },
    {
      "cell_type": "code",
      "metadata": {
        "id": "mdYg22VRxYPM"
      },
      "source": [
        "alpha1_true_var = {'alpha': alpha1_true['alpha'],\n",
        "                  'std': np.log10(sigma)}\n",
        "\n",
        "std_min, std_max = np.log10([0.002, 1])\n",
        "theta_lims_var = {'alpha': (alpha_min, alpha_max),\n",
        "                  'std': (std_min, std_max)}\n",
        "\n",
        "prior = pyabc.Distribution(\n",
        "    alpha=pyabc.RV(\"uniform\", alpha_min, alpha_max-alpha_min),\n",
        "    std=pyabc.RV(\"uniform\", std_min, std_max-std_min))"
      ],
      "execution_count": null,
      "outputs": []
    },
    {
      "cell_type": "code",
      "metadata": {
        "id": "2K8BwLu0xg-v",
        "colab": {
          "base_uri": "https://localhost:8080/"
        },
        "outputId": "a218a439-665a-4bd5-b1d8-5aeec4183a7c"
      },
      "source": [
        "%%time\n",
        "\n",
        "def posterior_unscaled(p):\n",
        "    \"\"\"Unscaled posterior with parameter-dependent noise levels.\"\"\"\n",
        "    # simulations and sigmas as arrays\n",
        "    y = model(p)['X_2']\n",
        "    sigma = 10**p['std'] * np.ones(n_time)\n",
        "\n",
        "    # unscaled likelihood\n",
        "    likelihood_val = normal_dty(measured_data['X_2'], y, sigma)\n",
        "\n",
        "    # prior\n",
        "    prior_val = prior.pdf(p)\n",
        "\n",
        "    return likelihood_val * prior_val\n",
        "\n",
        "# calculate posterior normalization\n",
        "posterior_normalization = None\n",
        "# comment out this line to recompute the normalization\n",
        "posterior_normalization = 382843631.1961108\n",
        "if posterior_normalization is None:\n",
        "    posterior_normalization = sp.integrate.dblquad(\n",
        "        lambda std, alpha: posterior_unscaled({'alpha': alpha, 'std': std}),\n",
        "        *alpha1_lims_var['alpha'],\n",
        "        lambda alpha: std_min, lambda alpha: std_max, epsabs=1e-4)[0]\n",
        "    print(posterior_normalization)\n",
        "\n",
        "def posterior_scaled(p):\n",
        "    \"\"\"Normalized posterior.\"\"\"\n",
        "    return posterior_unscaled(p) / posterior_normalization"
      ],
      "execution_count": null,
      "outputs": [
        {
          "output_type": "stream",
          "text": [
            "CPU times: user 5 µs, sys: 0 ns, total: 5 µs\n",
            "Wall time: 9.06 µs\n"
          ],
          "name": "stdout"
        }
      ]
    },
    {
      "cell_type": "code",
      "metadata": {
        "colab": {
          "base_uri": "https://localhost:8080/",
          "height": 485
        },
        "id": "f45mdzldpt0h",
        "outputId": "7dbc8936-d913-42e2-c4ea-bdd99e921547"
      },
      "source": [
        "%%time\n",
        "\n",
        "def marg_alpha(alpha):\n",
        "    \"\"\"Posterior marginal w.r.t. alpha.\"\"\"\n",
        "    return sp.integrate.quad(\n",
        "        lambda std: posterior_scaled({'alpha': alpha, 'std': std}),\n",
        "        *alpha1_lims_var['std'])[0]\n",
        "\n",
        "def marg_std(std):\n",
        "    \"\"\"Posterior marginal w.r.t. std.\"\"\"\n",
        "    return sp.integrate.quad(\n",
        "        lambda alpha: posterior_scaled({'alpha': alpha, 'std': std}),\n",
        "        *alpha1_lims_var['alpha'])[0]\n",
        "\n",
        "# calculate the densities on a grid\n",
        "\n",
        "alphas = np.linspace(*alpha1_lims_var['alpha'], 100)\n",
        "vals_alpha = [marg_alpha(alpha) for alpha in alphas]\n",
        "\n",
        "stds = np.linspace(*alpha1_lims_var['std'], 100)\n",
        "vals_std = [marg_std(std) for std in stds]\n"
      ],
      "execution_count": null,
      "outputs": [
        {
          "output_type": "error",
          "ename": "NameError",
          "evalue": "ignored",
          "traceback": [
            "\u001b[0;31m---------------------------------------------------------------------------\u001b[0m",
            "\u001b[0;31mNameError\u001b[0m                                 Traceback (most recent call last)",
            "\u001b[0;32m<ipython-input-26-ead26ce0336a>\u001b[0m in \u001b[0;36m<module>\u001b[0;34m()\u001b[0m\n\u001b[0;32m----> 1\u001b[0;31m \u001b[0mget_ipython\u001b[0m\u001b[0;34m(\u001b[0m\u001b[0;34m)\u001b[0m\u001b[0;34m.\u001b[0m\u001b[0mrun_cell_magic\u001b[0m\u001b[0;34m(\u001b[0m\u001b[0;34m'time'\u001b[0m\u001b[0;34m,\u001b[0m \u001b[0;34m''\u001b[0m\u001b[0;34m,\u001b[0m \u001b[0;34m'\\ndef marg_alpha(alpha):\\n    \"\"\"Posterior marginal w.r.t. alpha.\"\"\"\\n    return sp.integrate.quad(\\n        lambda std: posterior_scaled({\\'alpha\\': alpha, \\'std\\': std}),\\n        *alpha1_lims_var[\\'std\\'])[0]\\n\\ndef marg_std(std):\\n    \"\"\"Posterior marginal w.r.t. std.\"\"\"\\n    return sp.integrate.quad(\\n        lambda alpha: posterior_scaled({\\'alpha\\': alpha, \\'std\\': std}),\\n        *alpha1_lims_var[\\'alpha\\'])[0]\\n\\n# calculate the densities on a grid\\n\\nalphas = np.linspace(*alpha1_lims_var[\\'alpha\\'], 100)\\nvals_alpha = [marg_alpha(alpha) for alpha in alphas]\\n\\nstds = np.linspace(*alpha1_lims_var[\\'std\\'], 100)\\nvals_std = [marg_std(std) for std in stds]'\u001b[0m\u001b[0;34m)\u001b[0m\u001b[0;34m\u001b[0m\u001b[0;34m\u001b[0m\u001b[0m\n\u001b[0m",
            "\u001b[0;32m/usr/local/lib/python3.7/dist-packages/IPython/core/interactiveshell.py\u001b[0m in \u001b[0;36mrun_cell_magic\u001b[0;34m(self, magic_name, line, cell)\u001b[0m\n\u001b[1;32m   2115\u001b[0m             \u001b[0mmagic_arg_s\u001b[0m \u001b[0;34m=\u001b[0m \u001b[0mself\u001b[0m\u001b[0;34m.\u001b[0m\u001b[0mvar_expand\u001b[0m\u001b[0;34m(\u001b[0m\u001b[0mline\u001b[0m\u001b[0;34m,\u001b[0m \u001b[0mstack_depth\u001b[0m\u001b[0;34m)\u001b[0m\u001b[0;34m\u001b[0m\u001b[0;34m\u001b[0m\u001b[0m\n\u001b[1;32m   2116\u001b[0m             \u001b[0;32mwith\u001b[0m \u001b[0mself\u001b[0m\u001b[0;34m.\u001b[0m\u001b[0mbuiltin_trap\u001b[0m\u001b[0;34m:\u001b[0m\u001b[0;34m\u001b[0m\u001b[0;34m\u001b[0m\u001b[0m\n\u001b[0;32m-> 2117\u001b[0;31m                 \u001b[0mresult\u001b[0m \u001b[0;34m=\u001b[0m \u001b[0mfn\u001b[0m\u001b[0;34m(\u001b[0m\u001b[0mmagic_arg_s\u001b[0m\u001b[0;34m,\u001b[0m \u001b[0mcell\u001b[0m\u001b[0;34m)\u001b[0m\u001b[0;34m\u001b[0m\u001b[0;34m\u001b[0m\u001b[0m\n\u001b[0m\u001b[1;32m   2118\u001b[0m             \u001b[0;32mreturn\u001b[0m \u001b[0mresult\u001b[0m\u001b[0;34m\u001b[0m\u001b[0;34m\u001b[0m\u001b[0m\n\u001b[1;32m   2119\u001b[0m \u001b[0;34m\u001b[0m\u001b[0m\n",
            "\u001b[0;32m<decorator-gen-53>\u001b[0m in \u001b[0;36mtime\u001b[0;34m(self, line, cell, local_ns)\u001b[0m\n",
            "\u001b[0;32m/usr/local/lib/python3.7/dist-packages/IPython/core/magic.py\u001b[0m in \u001b[0;36m<lambda>\u001b[0;34m(f, *a, **k)\u001b[0m\n\u001b[1;32m    186\u001b[0m     \u001b[0;31m# but it's overkill for just that one bit of state.\u001b[0m\u001b[0;34m\u001b[0m\u001b[0;34m\u001b[0m\u001b[0;34m\u001b[0m\u001b[0m\n\u001b[1;32m    187\u001b[0m     \u001b[0;32mdef\u001b[0m \u001b[0mmagic_deco\u001b[0m\u001b[0;34m(\u001b[0m\u001b[0marg\u001b[0m\u001b[0;34m)\u001b[0m\u001b[0;34m:\u001b[0m\u001b[0;34m\u001b[0m\u001b[0;34m\u001b[0m\u001b[0m\n\u001b[0;32m--> 188\u001b[0;31m         \u001b[0mcall\u001b[0m \u001b[0;34m=\u001b[0m \u001b[0;32mlambda\u001b[0m \u001b[0mf\u001b[0m\u001b[0;34m,\u001b[0m \u001b[0;34m*\u001b[0m\u001b[0ma\u001b[0m\u001b[0;34m,\u001b[0m \u001b[0;34m**\u001b[0m\u001b[0mk\u001b[0m\u001b[0;34m:\u001b[0m \u001b[0mf\u001b[0m\u001b[0;34m(\u001b[0m\u001b[0;34m*\u001b[0m\u001b[0ma\u001b[0m\u001b[0;34m,\u001b[0m \u001b[0;34m**\u001b[0m\u001b[0mk\u001b[0m\u001b[0;34m)\u001b[0m\u001b[0;34m\u001b[0m\u001b[0;34m\u001b[0m\u001b[0m\n\u001b[0m\u001b[1;32m    189\u001b[0m \u001b[0;34m\u001b[0m\u001b[0m\n\u001b[1;32m    190\u001b[0m         \u001b[0;32mif\u001b[0m \u001b[0mcallable\u001b[0m\u001b[0;34m(\u001b[0m\u001b[0marg\u001b[0m\u001b[0;34m)\u001b[0m\u001b[0;34m:\u001b[0m\u001b[0;34m\u001b[0m\u001b[0;34m\u001b[0m\u001b[0m\n",
            "\u001b[0;32m/usr/local/lib/python3.7/dist-packages/IPython/core/magics/execution.py\u001b[0m in \u001b[0;36mtime\u001b[0;34m(self, line, cell, local_ns)\u001b[0m\n\u001b[1;32m   1191\u001b[0m         \u001b[0;32melse\u001b[0m\u001b[0;34m:\u001b[0m\u001b[0;34m\u001b[0m\u001b[0;34m\u001b[0m\u001b[0m\n\u001b[1;32m   1192\u001b[0m             \u001b[0mst\u001b[0m \u001b[0;34m=\u001b[0m \u001b[0mclock2\u001b[0m\u001b[0;34m(\u001b[0m\u001b[0;34m)\u001b[0m\u001b[0;34m\u001b[0m\u001b[0;34m\u001b[0m\u001b[0m\n\u001b[0;32m-> 1193\u001b[0;31m             \u001b[0mexec\u001b[0m\u001b[0;34m(\u001b[0m\u001b[0mcode\u001b[0m\u001b[0;34m,\u001b[0m \u001b[0mglob\u001b[0m\u001b[0;34m,\u001b[0m \u001b[0mlocal_ns\u001b[0m\u001b[0;34m)\u001b[0m\u001b[0;34m\u001b[0m\u001b[0;34m\u001b[0m\u001b[0m\n\u001b[0m\u001b[1;32m   1194\u001b[0m             \u001b[0mend\u001b[0m \u001b[0;34m=\u001b[0m \u001b[0mclock2\u001b[0m\u001b[0;34m(\u001b[0m\u001b[0;34m)\u001b[0m\u001b[0;34m\u001b[0m\u001b[0;34m\u001b[0m\u001b[0m\n\u001b[1;32m   1195\u001b[0m             \u001b[0mout\u001b[0m \u001b[0;34m=\u001b[0m \u001b[0;32mNone\u001b[0m\u001b[0;34m\u001b[0m\u001b[0;34m\u001b[0m\u001b[0m\n",
            "\u001b[0;32m<timed exec>\u001b[0m in \u001b[0;36m<module>\u001b[0;34m()\u001b[0m\n",
            "\u001b[0;31mNameError\u001b[0m: name 'alpha1_lims_var' is not defined"
          ]
        }
      ]
    },
    {
      "cell_type": "code",
      "metadata": {
        "id": "ILx2G4X6xjtD"
      },
      "source": [
        ""
      ],
      "execution_count": null,
      "outputs": []
    },
    {
      "cell_type": "code",
      "metadata": {
        "id": "cQ7VlEJ8xne4",
        "colab": {
          "base_uri": "https://localhost:8080/"
        },
        "outputId": "262f320e-0044-4678-fadc-31f2f13eef57"
      },
      "source": [
        "  def var(p):\n",
        "    \"\"\"Parameterized variance function. Note `var = std**2`.\"\"\"\n",
        "    return 10**(2*p['std']) * np.ones(n_time)\n",
        "\n",
        "acceptor = pyabc.StochasticAcceptor()\n",
        "# pass variance function to kernel\n",
        "kernel = pyabc.IndependentNormalKernel(var=var)\n",
        "eps = pyabc.Temperature()\n",
        "\n",
        "abc = pyabc.ABCSMC(model, prior, kernel, eps=eps, acceptor=acceptor,\n",
        "                   population_size=pop_size)\n",
        "abc.new(pyabc.create_sqlite_db_id(), measured_data)\n",
        "history_acceptor_var = abc.run(max_nr_populations=6)"
      ],
      "execution_count": null,
      "outputs": [
        {
          "output_type": "stream",
          "text": [
            "ABC.Sampler INFO: Parallelize sampling on 2 processes.\n",
            "ABC.History INFO: Start <ABCSMC id=5, start_time=2021-07-01 18:37:28.509429>\n",
            "ABC INFO: Calibration sample t = -1.\n",
            "ABC INFO: t: 0, eps: 5.47519283e+14.\n",
            "ABC INFO: Accepted: 500 / 1597 = 3.1309e-01, ESS: 5.0000e+02.\n",
            "ABC INFO: t: 1, eps: 6.17617417e+11.\n",
            "ABC INFO: Accepted: 500 / 2681 = 1.8650e-01, ESS: 4.7566e+02.\n",
            "ABC INFO: t: 2, eps: 6.96690119e+08.\n",
            "ABC INFO: Accepted: 500 / 13404 = 3.7302e-02, ESS: 4.5226e+02.\n",
            "ABC INFO: t: 3, eps: 7.85886390e+05.\n",
            "ABC INFO: Accepted: 500 / 17535 = 2.8514e-02, ESS: 3.9457e+02.\n",
            "ABC INFO: t: 4, eps: 8.86502335e+02.\n",
            "ABC INFO: Accepted: 500 / 18182 = 2.7500e-02, ESS: 1.5236e+02.\n",
            "ABC INFO: t: 5, eps: 1.00000000e+00.\n",
            "ABC INFO: Accepted: 500 / 120291 = 4.1566e-03, ESS: 4.2818e+01.\n",
            "ABC INFO: Stop: Maximum number of generations.\n",
            "ABC.History INFO: Done <ABCSMC id=5, duration=0:23:25.653497, end_time=2021-07-01 19:00:54.162926>\n"
          ],
          "name": "stderr"
        }
      ]
    },
    {
      "cell_type": "code",
      "metadata": {
        "id": "DiSAIgW9xrYG",
        "colab": {
          "base_uri": "https://localhost:8080/",
          "height": 505
        },
        "outputId": "2474c102-f478-47f6-ac77-26a7951c4ca6"
      },
      "source": [
        "fig, ax = plt.subplots(1, 2)\n",
        "for t in range(history_acceptor_var.max_t + 1):\n",
        "    pyabc.visualization.plot_kde_1d_highlevel(\n",
        "        history_acceptor_var, x=\"alpha\", t=t,\n",
        "        refval=alpha1_true_var, refval_color='grey',\n",
        "        xmin=alpha_min, xmax=alpha_max,\n",
        "        ax=ax[0], numx=200, label=f\"Generation {t}\")\n",
        "    pyabc.visualization.plot_kde_1d_highlevel(\n",
        "        history_acceptor_var, x=\"std\", t=t,\n",
        "        refval=alpha1_true_var, refval_color='grey',\n",
        "        xmin=std_min, xmax=std_max,\n",
        "        ax=ax[1], numx=200, label=f\"Generation {t}\")\n",
        "ax[1].set_xlabel(\"log10(std)\")\n",
        "ax[1].set_ylabel(None)\n",
        "\n",
        "ax[0].plot(alphas, vals_alpha, color='black', linestyle='--', label=\"True\")\n",
        "ax[1].plot(stds, vals_std, color='black', linestyle='--', label=\"True\")\n",
        "\n",
        "ax[1].legend()\n",
        "fig.set_size_inches((8, 4))\n",
        "fig.tight_layout()\n",
        "plt.show()"
      ],
      "execution_count": null,
      "outputs": [
        {
          "output_type": "error",
          "ename": "NameError",
          "evalue": "ignored",
          "traceback": [
            "\u001b[0;31m---------------------------------------------------------------------------\u001b[0m",
            "\u001b[0;31mNameError\u001b[0m                                 Traceback (most recent call last)",
            "\u001b[0;32m<ipython-input-29-5a251b333410>\u001b[0m in \u001b[0;36m<module>\u001b[0;34m()\u001b[0m\n\u001b[1;32m     14\u001b[0m \u001b[0max\u001b[0m\u001b[0;34m[\u001b[0m\u001b[0;36m1\u001b[0m\u001b[0;34m]\u001b[0m\u001b[0;34m.\u001b[0m\u001b[0mset_ylabel\u001b[0m\u001b[0;34m(\u001b[0m\u001b[0;32mNone\u001b[0m\u001b[0;34m)\u001b[0m\u001b[0;34m\u001b[0m\u001b[0;34m\u001b[0m\u001b[0m\n\u001b[1;32m     15\u001b[0m \u001b[0;34m\u001b[0m\u001b[0m\n\u001b[0;32m---> 16\u001b[0;31m \u001b[0max\u001b[0m\u001b[0;34m[\u001b[0m\u001b[0;36m0\u001b[0m\u001b[0;34m]\u001b[0m\u001b[0;34m.\u001b[0m\u001b[0mplot\u001b[0m\u001b[0;34m(\u001b[0m\u001b[0malphas\u001b[0m\u001b[0;34m,\u001b[0m \u001b[0mvals_alpha\u001b[0m\u001b[0;34m,\u001b[0m \u001b[0mcolor\u001b[0m\u001b[0;34m=\u001b[0m\u001b[0;34m'black'\u001b[0m\u001b[0;34m,\u001b[0m \u001b[0mlinestyle\u001b[0m\u001b[0;34m=\u001b[0m\u001b[0;34m'--'\u001b[0m\u001b[0;34m,\u001b[0m \u001b[0mlabel\u001b[0m\u001b[0;34m=\u001b[0m\u001b[0;34m\"True\"\u001b[0m\u001b[0;34m)\u001b[0m\u001b[0;34m\u001b[0m\u001b[0;34m\u001b[0m\u001b[0m\n\u001b[0m\u001b[1;32m     17\u001b[0m \u001b[0max\u001b[0m\u001b[0;34m[\u001b[0m\u001b[0;36m1\u001b[0m\u001b[0;34m]\u001b[0m\u001b[0;34m.\u001b[0m\u001b[0mplot\u001b[0m\u001b[0;34m(\u001b[0m\u001b[0mstds\u001b[0m\u001b[0;34m,\u001b[0m \u001b[0mvals_std\u001b[0m\u001b[0;34m,\u001b[0m \u001b[0mcolor\u001b[0m\u001b[0;34m=\u001b[0m\u001b[0;34m'black'\u001b[0m\u001b[0;34m,\u001b[0m \u001b[0mlinestyle\u001b[0m\u001b[0;34m=\u001b[0m\u001b[0;34m'--'\u001b[0m\u001b[0;34m,\u001b[0m \u001b[0mlabel\u001b[0m\u001b[0;34m=\u001b[0m\u001b[0;34m\"True\"\u001b[0m\u001b[0;34m)\u001b[0m\u001b[0;34m\u001b[0m\u001b[0;34m\u001b[0m\u001b[0m\n\u001b[1;32m     18\u001b[0m \u001b[0;34m\u001b[0m\u001b[0m\n",
            "\u001b[0;31mNameError\u001b[0m: name 'alphas' is not defined"
          ]
        },
        {
          "output_type": "display_data",
          "data": {
            "image/png": "[encoded data removed]",
            "text/plain": [
              "<Figure size 432x288 with 2 Axes>"
            ]
          },
          "metadata": {
            "tags": [],
            "needs_background": "light"
          }
        }
      ]
    }
  ]
}