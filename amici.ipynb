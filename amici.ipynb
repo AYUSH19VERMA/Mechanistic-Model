{
  "nbformat": 4,
  "nbformat_minor": 0,
  "metadata": {
    "colab": {
      "name": "amici.ipynb",
      "provenance": [],
      "authorship_tag": "ABX9TyOK9dhGS6Fmki1DFgGHQgN+",
      "include_colab_link": true
    },
    "kernelspec": {
      "name": "python3",
      "display_name": "Python 3"
    },
    "language_info": {
      "name": "python"
    }
  },
  "cells": [
    {
      "cell_type": "markdown",
      "metadata": {
        "id": "view-in-github",
        "colab_type": "text"
      },
      "source": [
        "<a href=\"https://colab.research.google.com/github/AYUSH19VERMA/Pipeline-_Project/blob/main/amici.ipynb\" target=\"_parent\"><img src=\"https://colab.research.google.com/assets/colab-badge.svg\" alt=\"Open In Colab\"/></a>"
      ]
    },
    {
      "cell_type": "code",
      "metadata": {
        "colab": {
          "base_uri": "https://localhost:8080/"
        },
        "id": "XPiRGhKYRy6C",
        "outputId": "aa964f3e-dd18-4c06-c1a7-2fe18254286b"
      },
      "source": [
        "!sudo apt install libatlas-base-dev swig"
      ],
      "execution_count": null,
      "outputs": [
        {
          "output_type": "stream",
          "text": [
            "Reading package lists... Done\n",
            "Building dependency tree       \n",
            "Reading state information... Done\n",
            "libatlas-base-dev is already the newest version (3.10.3-5).\n",
            "Suggested packages:\n",
            "  swig-doc swig-examples swig3.0-examples swig3.0-doc\n",
            "The following NEW packages will be installed:\n",
            "  swig swig3.0\n",
            "0 upgraded, 2 newly installed, 0 to remove and 39 not upgraded.\n",
            "Need to get 1,100 kB of archives.\n",
            "After this operation, 5,822 kB of additional disk space will be used.\n",
            "Get:1 http://archive.ubuntu.com/ubuntu bionic/universe amd64 swig3.0 amd64 3.0.12-1 [1,094 kB]\n",
            "Get:2 http://archive.ubuntu.com/ubuntu bionic/universe amd64 swig amd64 3.0.12-1 [6,460 B]\n",
            "Fetched 1,100 kB in 4s (309 kB/s)\n",
            "debconf: unable to initialize frontend: Dialog\n",
            "debconf: (No usable dialog-like program is installed, so the dialog based frontend cannot be used. at /usr/share/perl5/Debconf/FrontEnd/Dialog.pm line 76, <> line 2.)\n",
            "debconf: falling back to frontend: Readline\n",
            "debconf: unable to initialize frontend: Readline\n",
            "debconf: (This frontend requires a controlling tty.)\n",
            "debconf: falling back to frontend: Teletype\n",
            "dpkg-preconfigure: unable to re-open stdin: \n",
            "Selecting previously unselected package swig3.0.\n",
            "(Reading database ... 160772 files and directories currently installed.)\n",
            "Preparing to unpack .../swig3.0_3.0.12-1_amd64.deb ...\n",
            "Unpacking swig3.0 (3.0.12-1) ...\n",
            "Selecting previously unselected package swig.\n",
            "Preparing to unpack .../swig_3.0.12-1_amd64.deb ...\n",
            "Unpacking swig (3.0.12-1) ...\n",
            "Setting up swig3.0 (3.0.12-1) ...\n",
            "Setting up swig (3.0.12-1) ...\n",
            "Processing triggers for man-db (2.8.3-2ubuntu0.1) ...\n"
          ],
          "name": "stdout"
        }
      ]
    },
    {
      "cell_type": "code",
      "metadata": {
        "colab": {
          "base_uri": "https://localhost:8080/"
        },
        "id": "JVdQ-GZ_Rzqe",
        "outputId": "1eb53d8a-6165-4214-ab2a-1778eb09e606"
      },
      "source": [
        "!pip3 install amici"
      ],
      "execution_count": null,
      "outputs": [
        {
          "output_type": "stream",
          "text": [
            "Collecting amici\n",
            "\u001b[?25l  Downloading https://files.pythonhosted.org/packages/29/96/4a97de6f9db4b0e2830d2762c0f34699c6aaa6e2d4be426e2d2fb3da3372/amici-0.11.17.tar.gz (894kB)\n",
            "\u001b[K     |████████████████████████████████| 901kB 4.5MB/s \n",
            "\u001b[?25h  Installing build dependencies ... \u001b[?25l\u001b[?25hdone\n",
            "  Getting requirements to build wheel ... \u001b[?25l\u001b[?25hdone\n",
            "    Preparing wheel metadata ... \u001b[?25l\u001b[?25hdone\n",
            "Collecting wurlitzer\n",
            "  Downloading https://files.pythonhosted.org/packages/68/ac/b7082c3d228e600af37ec5cf99697d400328b13350b4d7577c213fa4faca/wurlitzer-2.1.0-py2.py3-none-any.whl\n",
            "Requirement already satisfied: sympy>=1.7.1 in /usr/local/lib/python3.7/dist-packages (from amici) (1.7.1)\n",
            "Requirement already satisfied: pandas in /usr/local/lib/python3.7/dist-packages (from amici) (1.1.5)\n",
            "Collecting pkgconfig\n",
            "  Downloading https://files.pythonhosted.org/packages/44/31/2911537fbe312cb73ce9bee473438c8bef95030da7b83be291ef95e29f8f/pkgconfig-1.5.4-py3-none-any.whl\n",
            "Requirement already satisfied: python-libsbml in /usr/local/lib/python3.7/dist-packages (from amici) (5.19.0)\n",
            "Requirement already satisfied: h5py in /usr/local/lib/python3.7/dist-packages (from amici) (3.1.0)\n",
            "Requirement already satisfied: numpy>=1.14.5; python_version == \"3.7\" in /usr/local/lib/python3.7/dist-packages (from amici) (1.19.5)\n",
            "Collecting toposort\n",
            "  Downloading https://files.pythonhosted.org/packages/f2/7d/55784e894ee0cde2474fb977ffd1651e74e840a9f92e1d847f7e3115d5ec/toposort-1.6-py2.py3-none-any.whl\n",
            "Requirement already satisfied: mpmath>=0.19 in /usr/local/lib/python3.7/dist-packages (from sympy>=1.7.1->amici) (1.2.1)\n",
            "Requirement already satisfied: python-dateutil>=2.7.3 in /usr/local/lib/python3.7/dist-packages (from pandas->amici) (2.8.1)\n",
            "Requirement already satisfied: pytz>=2017.2 in /usr/local/lib/python3.7/dist-packages (from pandas->amici) (2018.9)\n",
            "Requirement already satisfied: cached-property; python_version < \"3.8\" in /usr/local/lib/python3.7/dist-packages (from h5py->amici) (1.5.2)\n",
            "Requirement already satisfied: six>=1.5 in /usr/local/lib/python3.7/dist-packages (from python-dateutil>=2.7.3->pandas->amici) (1.15.0)\n",
            "Building wheels for collected packages: amici\n",
            "  Building wheel for amici (PEP 517) ... \u001b[?25l\u001b[?25hdone\n",
            "  Created wheel for amici: filename=amici-0.11.17-cp37-cp37m-linux_x86_64.whl size=13304997 sha256=603e9a1348b28276b59f9323eb4ff7bf52366020c1b1cc4a518d2df616619880\n",
            "  Stored in directory: /root/.cache/pip/wheels/28/e9/2c/e965602ea49d9cfb77d402e093c6eac0d21851baa81f360813\n",
            "Successfully built amici\n",
            "Installing collected packages: wurlitzer, pkgconfig, toposort, amici\n",
            "Successfully installed amici-0.11.17 pkgconfig-1.5.4 toposort-1.6 wurlitzer-2.1.0\n"
          ],
          "name": "stdout"
        }
      ]
    },
    {
      "cell_type": "code",
      "metadata": {
        "colab": {
          "base_uri": "https://localhost:8080/"
        },
        "id": "j7IVcK6eR2Ml",
        "outputId": "e69d390e-a22d-4275-ca87-fb0ecfce3f11"
      },
      "source": [
        "pip install yaml2sbml"
      ],
      "execution_count": null,
      "outputs": [
        {
          "output_type": "stream",
          "text": [
            "Collecting yaml2sbml\n",
            "  Downloading https://files.pythonhosted.org/packages/96/07/25884d080b10d60977ed52e272776d8e1405635f5307eac01b8f393dab1f/yaml2sbml-0.2.4-py3-none-any.whl\n",
            "Collecting petab>=0.1.4\n",
            "\u001b[?25l  Downloading https://files.pythonhosted.org/packages/4f/e9/d8a3fc2b66a32196717bf833b949239f9467e2ae8b49c9b11b41c4270892/petab-0.1.19-py3-none-any.whl (82kB)\n",
            "\u001b[K     |████████████████████████████████| 92kB 3.6MB/s \n",
            "\u001b[?25hCollecting python-libsbml>=5.18.0\n",
            "\u001b[?25l  Downloading https://files.pythonhosted.org/packages/93/13/2df22b77ee9125381a00aa4dc63de1776bb84d773655d2770416e81416cd/python_libsbml-5.19.0-cp37-cp37m-manylinux1_x86_64.whl (6.2MB)\n",
            "\u001b[K     |████████████████████████████████| 6.2MB 20.4MB/s \n",
            "\u001b[?25hRequirement already satisfied: pandas>=1.0.1 in /usr/local/lib/python3.7/dist-packages (from yaml2sbml) (1.1.5)\n",
            "Collecting PyYAML>=5.1\n",
            "\u001b[?25l  Downloading https://files.pythonhosted.org/packages/7a/a5/393c087efdc78091afa2af9f1378762f9821c9c1d7a22c5753fb5ac5f97a/PyYAML-5.4.1-cp37-cp37m-manylinux1_x86_64.whl (636kB)\n",
            "\u001b[K     |████████████████████████████████| 645kB 31.5MB/s \n",
            "\u001b[?25hCollecting colorama\n",
            "  Downloading https://files.pythonhosted.org/packages/44/98/5b86278fbbf250d239ae0ecb724f8572af1c91f4a11edf4d36a206189440/colorama-0.4.4-py2.py3-none-any.whl\n",
            "Requirement already satisfied: jsonschema in /usr/local/lib/python3.7/dist-packages (from petab>=0.1.4->yaml2sbml) (2.6.0)\n",
            "Requirement already satisfied: matplotlib>=2.2.3 in /usr/local/lib/python3.7/dist-packages (from petab>=0.1.4->yaml2sbml) (3.2.2)\n",
            "Requirement already satisfied: numpy>=1.15.1 in /usr/local/lib/python3.7/dist-packages (from petab>=0.1.4->yaml2sbml) (1.19.5)\n",
            "Requirement already satisfied: seaborn in /usr/local/lib/python3.7/dist-packages (from petab>=0.1.4->yaml2sbml) (0.11.1)\n",
            "Requirement already satisfied: sympy in /usr/local/lib/python3.7/dist-packages (from petab>=0.1.4->yaml2sbml) (1.7.1)\n",
            "Requirement already satisfied: python-dateutil>=2.7.3 in /usr/local/lib/python3.7/dist-packages (from pandas>=1.0.1->yaml2sbml) (2.8.1)\n",
            "Requirement already satisfied: pytz>=2017.2 in /usr/local/lib/python3.7/dist-packages (from pandas>=1.0.1->yaml2sbml) (2018.9)\n",
            "Requirement already satisfied: cycler>=0.10 in /usr/local/lib/python3.7/dist-packages (from matplotlib>=2.2.3->petab>=0.1.4->yaml2sbml) (0.10.0)\n",
            "Requirement already satisfied: kiwisolver>=1.0.1 in /usr/local/lib/python3.7/dist-packages (from matplotlib>=2.2.3->petab>=0.1.4->yaml2sbml) (1.3.1)\n",
            "Requirement already satisfied: pyparsing!=2.0.4,!=2.1.2,!=2.1.6,>=2.0.1 in /usr/local/lib/python3.7/dist-packages (from matplotlib>=2.2.3->petab>=0.1.4->yaml2sbml) (2.4.7)\n",
            "Requirement already satisfied: scipy>=1.0 in /usr/local/lib/python3.7/dist-packages (from seaborn->petab>=0.1.4->yaml2sbml) (1.4.1)\n",
            "Requirement already satisfied: mpmath>=0.19 in /usr/local/lib/python3.7/dist-packages (from sympy->petab>=0.1.4->yaml2sbml) (1.2.1)\n",
            "Requirement already satisfied: six>=1.5 in /usr/local/lib/python3.7/dist-packages (from python-dateutil>=2.7.3->pandas>=1.0.1->yaml2sbml) (1.15.0)\n",
            "\u001b[31mERROR: petab 0.1.19 has requirement pandas>=1.2.0, but you'll have pandas 1.1.5 which is incompatible.\u001b[0m\n",
            "Installing collected packages: colorama, PyYAML, python-libsbml, petab, yaml2sbml\n",
            "  Found existing installation: PyYAML 3.13\n",
            "    Uninstalling PyYAML-3.13:\n",
            "      Successfully uninstalled PyYAML-3.13\n",
            "Successfully installed PyYAML-5.4.1 colorama-0.4.4 petab-0.1.19 python-libsbml-5.19.0 yaml2sbml-0.2.4\n"
          ],
          "name": "stdout"
        }
      ]
    },
    {
      "cell_type": "code",
      "metadata": {
        "colab": {
          "base_uri": "https://localhost:8080/"
        },
        "id": "VdhLvlKSR4NW",
        "outputId": "8f1f15c7-955d-4802-e697-ce5c5ecb08e2"
      },
      "source": [
        "import yaml2sbml\n",
        "\n",
        "yaml_file_basic = 'YML_File_Model.yml'\n",
        "yaml2sbml.validate_yaml(yaml_dir=yaml_file_basic)\n",
        "sbml_output_file = 'YML_File_Model.xml'\n",
        "yaml2sbml.yaml2sbml(yaml_file_basic, sbml_output_file)"
      ],
      "execution_count": null,
      "outputs": [
        {
          "output_type": "stream",
          "text": [
            "YAML file is valid ✅\n"
          ],
          "name": "stdout"
        }
      ]
    },
    {
      "cell_type": "code",
      "metadata": {
        "id": "AdWBAIjMS-wB"
      },
      "source": [
        ""
      ],
      "execution_count": null,
      "outputs": []
    },
    {
      "cell_type": "code",
      "metadata": {
        "id": "4qgx8RpKR6k4"
      },
      "source": [
        "%%capture\n",
        "import amici\n",
        "import amici.plotting\n",
        "\n",
        "model_name = 'upgrade'\n",
        "model_output_dir = 'upgrade_AMICI'\n",
        "\n",
        "\n",
        "sbml_importer = amici.SbmlImporter(sbml_output_file)\n",
        "sbml_importer.sbml2amici(model_name, model_output_dir)"
      ],
      "execution_count": null,
      "outputs": []
    },
    {
      "cell_type": "code",
      "metadata": {
        "id": "VFlCoFO6Rspl"
      },
      "source": [
        "import os\n",
        "import sys\n",
        "import importlib\n",
        "import numpy as np\n",
        "import numpy as np\n",
        "from scipy.integrate import odeint\n",
        "import matplotlib.pyplot as plt\n",
        "\n",
        "# import model\n",
        "sys.path.insert(0, os.path.abspath(model_output_dir))\n",
        "model_module = importlib.import_module(model_name)\n",
        "\n",
        "# create model + solver instance\n",
        "model = model_module.getModel()\n",
        "solver = model.getSolver()\n",
        "\n",
        "# Define time points and run simulation using default model parameters/solver options\n",
        "model.setTimepoints(np.linspace(0, 48, 201)) \n",
        "rdata = amici.runAmiciSimulation(model, solver)\n"
      ],
      "execution_count": null,
      "outputs": []
    },
    {
      "cell_type": "code",
      "metadata": {
        "colab": {
          "base_uri": "https://localhost:8080/",
          "height": 315
        },
        "id": "cFT7JhuyTdX5",
        "outputId": "e5f1feb3-1f50-4471-b431-61784f734f81"
      },
      "source": [
        "# plot trajectories\n",
        "amici.plotting.plotStateTrajectories(rdata, model=model)\n",
        "plt.yscale(\"log\",)\n",
        "plt.ylim(1e4,1e7)    "
      ],
      "execution_count": null,
      "outputs": [
        {
          "output_type": "execute_result",
          "data": {
            "text/plain": [
              "(10000.0, 10000000.0)"
            ]
          },
          "metadata": {
            "tags": []
          },
          "execution_count": 9
        },
        {
          "output_type": "display_data",
          "data": {
            "image/png": "[encoded data removed]",
            "text/plain": [
              "<Figure size 432x288 with 1 Axes>"
            ]
          },
          "metadata": {
            "tags": [],
            "needs_background": "light"
          }
        }
      ]
    }
  ]
}