{
  "nbformat": 4,
  "nbformat_minor": 0,
  "metadata": {
    "colab": {
      "name": "Mechanistic Model",
      "provenance": [],
      "authorship_tag": "ABX9TyMvoBwv0OQ+JdIuQ4eRF/rf",
      "include_colab_link": true
    },
    "kernelspec": {
      "name": "python3",
      "display_name": "Python 3"
    },
    "language_info": {
      "name": "python"
    },
    "accelerator": "TPU"
  },
  "cells": [
    {
      "cell_type": "markdown",
      "metadata": {
        "id": "view-in-github",
        "colab_type": "text"
      },
      "source": [
        "<a href=\"https://colab.research.google.com/github/AYUSH19VERMA/Pipeline-_Project/blob/Branch1/Mechanistic_Model_plots%20and%20results.ipynb\" target=\"_parent\"><img src=\"https://colab.research.google.com/assets/colab-badge.svg\" alt=\"Open In Colab\"/></a>"
      ]
    },
    {
      "cell_type": "code",
      "metadata": {
        "id": "-UhGYqhRB74K"
      },
      "source": [
        "import numpy as np\n",
        "import matplotlib\n",
        "from scipy.integrate import odeint\n",
        "\n",
        "matplotlib.use('tkagg')\n"
      ],
      "execution_count": 3,
      "outputs": []
    },
    {
      "cell_type": "code",
      "metadata": {
        "colab": {
          "base_uri": "https://localhost:8080/",
          "height": 295
        },
        "id": "-CsGP2w6CpC_",
        "outputId": "6938f842-102e-4288-dc8e-973819ad4a6b"
      },
      "source": [
        "#Simulated short-term dynamics of response to A. fumigatus challenge in immunocompetent host with initial concentration of F given by Fo=1e6\n",
        "#Result : Rate of deal fungal cells showed increase till around 24hr, and started decreasing(negative slope at RHS of 24hr) \n",
        "import matplotlib.pyplot as plt\n",
        "y0 = [1e6, 0, 0, 0,]\t\n",
        "t = np.linspace(0, 48, 1000)\n",
        "alpha = 0.0017\n",
        "beta = 0.28\n",
        "k_NF = 1.2e-6\n",
        "d_MF = 0.32e-6\n",
        "k_C = 0.38e-12\n",
        "k_NC = 0.31e-6\n",
        "delta_C = 0.066\n",
        "delta_N = 1.2\n",
        "delta_F = 0.090\n",
        "\n",
        "\n",
        "params = [alpha, beta, k_NF, d_MF, k_C, k_NC, delta_C, delta_N, delta_F]\n",
        "\n",
        "def sim(variables, t, params):\n",
        "\tF = variables[0]\t\n",
        "\tC = variables[1]    \n",
        "\tN = variables[2]\n",
        "\tFd = variables[3]    \n",
        "\tNv =  150e6            \n",
        "        \n",
        "\tM = 0.3e6       \n",
        "\n",
        "\talpha = params[0]\n",
        "\tbeta = params[1]\n",
        "\tk_NF = params[2]\n",
        "\td_MF = params[3]\n",
        "\tk_C = params[4]\n",
        "\tk_NC = params[5]\n",
        "\tdelta_C = params[6]\n",
        "\tdelta_N = params[7]\n",
        "\tdelta_F = params[8]\n",
        "\n",
        "\n",
        "\tdFdt = beta*F - k_NF*N*F - d_MF*M*F\n",
        "\tdCdt = k_C*M*F + k_NC*N - delta_C*C     \n",
        "\tdNdt = alpha*Nv*C - k_NF*N*F - delta_N*N \n",
        "\tdFddt = k_NF*N*F + d_MF*M*F - delta_F*Fd\n",
        "\n",
        "\treturn([dFdt, dCdt, dNdt, dFddt]) \n",
        "\n",
        "\n",
        "y = odeint(sim, y0, t, args=(params,))\n",
        "a1 = y[:,0]\n",
        "a2 = y[:,1]\n",
        "a3 = y[:,2]\n",
        "a4 = y[:,3]     \n",
        "\n",
        "plt.plot(t, a1, color ='blue')\n",
        "plt.plot(t,a2*1e6, color ='cyan')\n",
        "plt.plot(t,a3, color ='red')\n",
        "plt.plot(t,a4, color ='black')\n",
        "plt.yscale(\"log\",)\n",
        "plt.ylim(1e4,1e8)\n",
        "ticks1 = [0,24,48]\n",
        "plt.xticks([0,24,48],ticks1)\n",
        "\n",
        "\n",
        "\n",
        "plt.xlabel(\"Time[h]\")\n",
        "plt.ylabel(\"Cells\")\n",
        "plt.title(\"Immunocompoetent\")\n",
        "\n",
        "plt.grid()\n",
        "\n",
        "plt.show()"
      ],
      "execution_count": 9,
      "outputs": [
        {
          "output_type": "display_data",
          "data": {
            "image/png": "[encoded data removed]",
            "text/plain": [
              "<Figure size 432x288 with 1 Axes>"
            ]
          },
          "metadata": {
            "tags": [],
            "needs_background": "light"
          }
        }
      ]
    },
    {
      "cell_type": "code",
      "metadata": {
        "colab": {
          "base_uri": "https://localhost:8080/",
          "height": 295
        },
        "id": "VxBapLSmFWZN",
        "outputId": "5c3b33d6-0dc2-4669-871a-0f549abf6dd1"
      },
      "source": [
        "#Simulated short-term dynamics of response to A. fumigatus challenge in neutropenic hosts with initial concentration of F given by Fo=1e6\n",
        "#Result : Rate of deal fungal cells found to be mimicking the rate of release of cytokines\n",
        "\n",
        "import matplotlib.pyplot as plt\n",
        "y0 = [1e6, 0, 0, 0,]\t\n",
        "t = np.linspace(0, 48, 1000)\n",
        "alpha = 0.0017\n",
        "beta = 0.28\n",
        "k_NF = 1.2e-6\n",
        "d_MF = 0.32e-6\n",
        "k_C = 0.38e-12\n",
        "k_NC = 0.31e-6\n",
        "delta_C = 0.066\n",
        "delta_N = 1.2\n",
        "delta_F = 0.090\n",
        "\n",
        "\n",
        "params = [alpha, beta, k_NF, d_MF, k_C, k_NC, delta_C, delta_N, delta_F]\n",
        "\n",
        "def sim(variables, t, params):\n",
        "\tF = variables[0]\t\n",
        "\tC = variables[1]    \n",
        "\tN = variables[2]\n",
        "\tFd = variables[3]    \n",
        "\tNv =  150e6*0.1          \n",
        "        \n",
        "\tM = 0.3e6       \n",
        "\n",
        "\talpha = params[0]\n",
        "\tbeta = params[1]\n",
        "\tk_NF = params[2]\n",
        "\td_MF = params[3]\n",
        "\tk_C = params[4]\n",
        "\tk_NC = params[5]\n",
        "\tdelta_C = params[6]\n",
        "\tdelta_N = params[7]\n",
        "\tdelta_F = params[8]\n",
        "\n",
        "\n",
        "\tdFdt = beta*F - k_NF*N*F - d_MF*M*F\n",
        "\tdCdt = k_C*M*F + k_NC*N - delta_C*C     \n",
        "\tdNdt = alpha*Nv*C - k_NF*N*F - delta_N*N \n",
        "\tdFddt = k_NF*N*F + d_MF*M*F - delta_F*Fd\n",
        "\n",
        "\treturn([dFdt, dCdt, dNdt, dFddt]) \n",
        "\n",
        "\n",
        "y = odeint(sim, y0, t, args=(params,))\n",
        "a1 = y[:,0]\n",
        "a2 = y[:,1]\n",
        "a3 = y[:,2]\n",
        "a4 = y[:,3]     \n",
        "\n",
        "plt.plot(t, a1, color ='blue')\n",
        "plt.plot(t,a2*1e6, color ='cyan')\n",
        "plt.plot(t,a3, color ='red')\n",
        "plt.plot(t,a4, color ='black')\n",
        "plt.yscale(\"log\",)\n",
        "plt.ylim(1e4,1e8)\n",
        "ticks1 = [0,24,48]\n",
        "plt.xticks([0,24,48],ticks1)\n",
        "\n",
        "\n",
        "\n",
        "plt.xlabel(\"Time[h]\")\n",
        "plt.ylabel(\"Cells\")\n",
        "plt.title(\"Neutropenic\")\n",
        "\n",
        "plt.grid()\n",
        "\n",
        "plt.show()"
      ],
      "execution_count": 12,
      "outputs": [
        {
          "output_type": "display_data",
          "data": {
            "image/png": "[encoded data removed]",
            "text/plain": [
              "<Figure size 432x288 with 1 Axes>"
            ]
          },
          "metadata": {
            "tags": [],
            "needs_background": "light"
          }
        }
      ]
    },
    {
      "cell_type": "code",
      "metadata": {
        "id": "DYRLkTtdGabr"
      },
      "source": [
        ""
      ],
      "execution_count": null,
      "outputs": []
    }
  ]
}